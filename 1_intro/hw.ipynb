{
 "cells": [
  {
   "cell_type": "code",
   "execution_count": 31,
   "id": "865a69ae-9707-4261-8f3c-ae336d2e9a21",
   "metadata": {},
   "outputs": [],
   "source": [
    "import requests \n",
    "from elasticsearch import Elasticsearch\n",
    "from tqdm.auto import tqdm\n",
    "import tiktoken"
   ]
  },
  {
   "cell_type": "markdown",
   "id": "1b274676-49ea-41aa-ad64-78e0aafdf507",
   "metadata": {},
   "source": [
    "### Getting the data"
   ]
  },
  {
   "cell_type": "code",
   "execution_count": 3,
   "id": "8cfee654-5aa3-4aca-8d28-49b5b978688b",
   "metadata": {},
   "outputs": [],
   "source": [
    "docs_url = 'https://github.com/DataTalksClub/llm-zoomcamp/blob/main/01-intro/documents.json?raw=1'\n",
    "docs_response = requests.get(docs_url)\n",
    "documents_raw = docs_response.json()\n",
    "\n",
    "documents = []\n",
    "\n",
    "for course in documents_raw:\n",
    "    course_name = course['course']\n",
    "\n",
    "    for doc in course['documents']:\n",
    "        doc['course'] = course_name\n",
    "        documents.append(doc)"
   ]
  },
  {
   "cell_type": "markdown",
   "id": "43ccb08b-6502-4d5d-a497-e59a7c4191c0",
   "metadata": {},
   "source": [
    "### Indexing the data"
   ]
  },
  {
   "cell_type": "code",
   "execution_count": 4,
   "id": "611cb104-6046-45ad-893b-00692d5c754d",
   "metadata": {},
   "outputs": [
    {
     "data": {
      "text/plain": [
       "ObjectApiResponse({'acknowledged': True, 'shards_acknowledged': True, 'index': 'course-questions'})"
      ]
     },
     "execution_count": 4,
     "metadata": {},
     "output_type": "execute_result"
    }
   ],
   "source": [
    "es_client = Elasticsearch('http://localhost:9200') \n",
    "index_settings = {\n",
    "    \"settings\": {\n",
    "        \"number_of_shards\": 1,\n",
    "        \"number_of_replicas\": 0\n",
    "    },\n",
    "    \"mappings\": {\n",
    "        \"properties\": {\n",
    "            \"text\": {\"type\": \"text\"},\n",
    "            \"section\": {\"type\": \"text\"},\n",
    "            \"question\": {\"type\": \"text\"},\n",
    "            \"course\": {\"type\": \"keyword\"} \n",
    "        }\n",
    "    }\n",
    "}\n",
    "\n",
    "index_name = \"course-questions\"\n",
    "\n",
    "es_client.indices.create(index=index_name, body=index_settings)"
   ]
  },
  {
   "cell_type": "code",
   "execution_count": 5,
   "id": "7a96804b-9a95-4472-9804-ce5c4197fb23",
   "metadata": {},
   "outputs": [
    {
     "data": {
      "application/vnd.jupyter.widget-view+json": {
       "model_id": "d6abc15bcee443ac908f58aff8626d91",
       "version_major": 2,
       "version_minor": 0
      },
      "text/plain": [
       "  0%|          | 0/948 [00:00<?, ?it/s]"
      ]
     },
     "metadata": {},
     "output_type": "display_data"
    }
   ],
   "source": [
    "# index documents by elastic search\n",
    "for doc in tqdm(documents):\n",
    "    es_client.index(index=index_name, document=doc)"
   ]
  },
  {
   "cell_type": "markdown",
   "id": "71e287d0-dd3a-47fd-8388-c92f88fe5156",
   "metadata": {},
   "source": [
    "### Searching\n",
    "Now let's search in our index.\\\n",
    "We will execute a query \"How do execute a command on a Kubernetes pod?\".\\\n",
    "Use only question and text fields and give question a boost of 4, and use \"type\": \"best_fields\".\\\n",
    "What's the score for the top ranking result?"
   ]
  },
  {
   "cell_type": "code",
   "execution_count": 6,
   "id": "cd76232d-f222-4549-89df-37575be6ab3a",
   "metadata": {},
   "outputs": [],
   "source": [
    "query = \"How do execute a command on a Kubernetes pod?\""
   ]
  },
  {
   "cell_type": "code",
   "execution_count": 11,
   "id": "9c0f13de-c476-4f6f-b02b-79229def28ab",
   "metadata": {},
   "outputs": [],
   "source": [
    "search_query = {\n",
    "    \"query\": {\n",
    "        \"bool\": {\n",
    "            \"must\": {\n",
    "                \"multi_match\": {\n",
    "                    \"query\": query,\n",
    "                    \"fields\": [\"question^4\", \"text\"],\n",
    "                    \"type\": \"best_fields\"\n",
    "                }\n",
    "            }\n",
    "            \n",
    "        }\n",
    "    }\n",
    "}\n",
    "\n",
    "response = es_client.search(index=index_name, body=search_query)"
   ]
  },
  {
   "cell_type": "code",
   "execution_count": 12,
   "id": "71b17b1d-ab22-4b95-b5b1-0a1152d325f1",
   "metadata": {},
   "outputs": [
    {
     "data": {
      "text/plain": [
       "44.50556"
      ]
     },
     "execution_count": 12,
     "metadata": {},
     "output_type": "execute_result"
    }
   ],
   "source": [
    "response['hits']['hits'][0]['_score']"
   ]
  },
  {
   "cell_type": "markdown",
   "id": "53bd04ff-4677-48de-9ca0-30b12afee9ff",
   "metadata": {},
   "source": [
    "### Filtering\n",
    "Now ask a different question: \"How do copy a file to a Docker container?\".\\\n",
    "This time we are only interested in questions from machine-learning-zoomcamp.\\\n",
    "Return 3 results. What's the 3rd question returned by the search engine?"
   ]
  },
  {
   "cell_type": "code",
   "execution_count": 13,
   "id": "59b2f0de-b6b6-432e-8ee5-6f40ce558d9c",
   "metadata": {},
   "outputs": [],
   "source": [
    "query = \"How do copy a file to a Docker container?\""
   ]
  },
  {
   "cell_type": "code",
   "execution_count": 14,
   "id": "7c86a496-414a-427a-8fbe-a7f2a1717d93",
   "metadata": {},
   "outputs": [],
   "source": [
    "search_query = {\n",
    "    \"size\": 3,\n",
    "    \"query\": {\n",
    "        \"bool\": {\n",
    "            \"must\": {\n",
    "                \"multi_match\": {\n",
    "                    \"query\": query,\n",
    "                    \"fields\": [\"question^4\", \"text\"],\n",
    "                    \"type\": \"best_fields\"\n",
    "                }\n",
    "            },\n",
    "            \"filter\": {\n",
    "                \"term\": {\n",
    "                    \"course\": \"machine-learning-zoomcamp\"\n",
    "                }\n",
    "            }\n",
    "        }\n",
    "    }\n",
    "}\n",
    "\n",
    "response = es_client.search(index=index_name, body=search_query)\n",
    "\n",
    "# take only text from response without metadata info\n",
    "result_docs = []\n",
    "\n",
    "for hit in response['hits']['hits']:\n",
    "    result_docs.append(hit['_source'])"
   ]
  },
  {
   "cell_type": "code",
   "execution_count": 18,
   "id": "9b82b3f6-4e34-432b-819c-1ebf48e1d11b",
   "metadata": {},
   "outputs": [
    {
     "data": {
      "text/plain": [
       "{'text': 'You can copy files from your local machine into a Docker container using the docker cp command. Here\\'s how to do it:\\nIn the Dockerfile, you can provide the folder containing the files that you want to copy over. The basic syntax is as follows:\\nCOPY [\"src/predict.py\", \"models/xgb_model.bin\", \"./\"]\\t\\t\\t\\t\\t\\t\\t\\t\\t\\t\\tGopakumar Gopinathan',\n",
       " 'section': '5. Deploying Machine Learning Models',\n",
       " 'question': 'How do I copy files from a different folder into docker container’s working directory?',\n",
       " 'course': 'machine-learning-zoomcamp'}"
      ]
     },
     "execution_count": 18,
     "metadata": {},
     "output_type": "execute_result"
    }
   ],
   "source": [
    "result_docs[2]"
   ]
  },
  {
   "cell_type": "markdown",
   "id": "e720fc37-10c6-4bfd-b959-d5c0d1c0a45c",
   "metadata": {},
   "source": [
    "### Building a prompt\n",
    "Now we're ready to build a prompt to send to an LLM.\\\n",
    "Take the records returned from Elasticsearch in Q4 and use this template to build the context. Separate context entries by two linebreaks"
   ]
  },
  {
   "cell_type": "code",
   "execution_count": 22,
   "id": "58a19257-3bfc-4393-bb4a-1f72e7facafb",
   "metadata": {},
   "outputs": [],
   "source": [
    "context_template = ''\n",
    "    \n",
    "for doc in result_docs:\n",
    "    context_template = context_template + f\"Q: {doc['question']}\\nA: {doc['text']}\\n\\n\""
   ]
  },
  {
   "cell_type": "code",
   "execution_count": 23,
   "id": "675ae468-c494-409d-8506-8dc709f7b5b5",
   "metadata": {},
   "outputs": [
    {
     "name": "stdout",
     "output_type": "stream",
     "text": [
      "Q: How do I debug a docker container?\n",
      "A: Launch the container image in interactive mode and overriding the entrypoint, so that it starts a bash command.\n",
      "docker run -it --entrypoint bash <image>\n",
      "If the container is already running, execute a command in the specific container:\n",
      "docker ps (find the container-id)\n",
      "docker exec -it <container-id> bash\n",
      "(Marcos MJD)\n",
      "\n",
      "Q: How do I copy files from my local machine to docker container?\n",
      "A: You can copy files from your local machine into a Docker container using the docker cp command. Here's how to do it:\n",
      "To copy a file or directory from your local machine into a running Docker container, you can use the `docker cp command`. The basic syntax is as follows:\n",
      "docker cp /path/to/local/file_or_directory container_id:/path/in/container\n",
      "Hrithik Kumar Advani\n",
      "\n",
      "Q: How do I copy files from a different folder into docker container’s working directory?\n",
      "A: You can copy files from your local machine into a Docker container using the docker cp command. Here's how to do it:\n",
      "In the Dockerfile, you can provide the folder containing the files that you want to copy over. The basic syntax is as follows:\n",
      "COPY [\"src/predict.py\", \"models/xgb_model.bin\", \"./\"]\t\t\t\t\t\t\t\t\t\t\tGopakumar Gopinathan\n",
      "\n",
      "\n"
     ]
    }
   ],
   "source": [
    "print(context_template)"
   ]
  },
  {
   "cell_type": "markdown",
   "id": "ca6ae356-26ad-4a8e-9f9c-82d0ff528cb2",
   "metadata": {},
   "source": [
    "Now use the context you just created along with the \"How do I execute a command in a running docker container?\" question to construct a prompt using the template below:"
   ]
  },
  {
   "cell_type": "code",
   "execution_count": 24,
   "id": "cf589d61-7e57-484d-bb14-0bb140e44847",
   "metadata": {},
   "outputs": [],
   "source": [
    "query = \"How do I execute a command in a running docker container?\""
   ]
  },
  {
   "cell_type": "code",
   "execution_count": 25,
   "id": "e1c61dc4-2a62-43f9-a5e5-d10d67a06c37",
   "metadata": {},
   "outputs": [],
   "source": [
    "prompt_template = \"\"\"\n",
    "You're a course teaching assistant. Answer the QUESTION based on the CONTEXT from the FAQ database.\n",
    "Use only the facts from the CONTEXT when answering the QUESTION.\n",
    "\n",
    "QUESTION: {question}\n",
    "\n",
    "CONTEXT:\n",
    "{context}\n",
    "\"\"\".strip()"
   ]
  },
  {
   "cell_type": "code",
   "execution_count": 26,
   "id": "fbaa7121-e8bc-4a1f-bed2-319a599df0a2",
   "metadata": {},
   "outputs": [],
   "source": [
    "prompt = prompt_template.format(question=query, context=context_template).strip()"
   ]
  },
  {
   "cell_type": "code",
   "execution_count": 28,
   "id": "979e84e5-b5c1-472b-8363-feba2d2f6808",
   "metadata": {},
   "outputs": [
    {
     "data": {
      "text/plain": [
       "1462"
      ]
     },
     "execution_count": 28,
     "metadata": {},
     "output_type": "execute_result"
    }
   ],
   "source": [
    "len(prompt)"
   ]
  },
  {
   "cell_type": "markdown",
   "id": "13cb9228-479f-4da4-8ae0-9658e2df074b",
   "metadata": {},
   "source": [
    "### Tokens\n",
    "When we use the OpenAI Platform, we're charged by the number of tokens we send in our prompt and receive in the response.\\\n",
    "Let's calculate the number of tokens in our query:"
   ]
  },
  {
   "cell_type": "code",
   "execution_count": 37,
   "id": "0dcf60e1-a2ef-45ae-92b9-c46dd0b59172",
   "metadata": {},
   "outputs": [],
   "source": [
    "encoding = tiktoken.encoding_for_model(\"gpt-4o\")"
   ]
  },
  {
   "cell_type": "code",
   "execution_count": 38,
   "id": "bd6620e1-9f7a-472e-9a62-14a84f14cb0b",
   "metadata": {},
   "outputs": [
    {
     "data": {
      "text/plain": [
       "322"
      ]
     },
     "execution_count": 38,
     "metadata": {},
     "output_type": "execute_result"
    }
   ],
   "source": [
    "len(encoding.encode(prompt))"
   ]
  },
  {
   "cell_type": "code",
   "execution_count": 39,
   "id": "dae07ae2-f4c9-4b43-9b26-a8d0e2ffa880",
   "metadata": {},
   "outputs": [
    {
     "data": {
      "text/plain": [
       "b\"You're\""
      ]
     },
     "execution_count": 39,
     "metadata": {},
     "output_type": "execute_result"
    }
   ],
   "source": [
    "# decode back\n",
    "encoding.decode_single_token_bytes(63842)"
   ]
  },
  {
   "cell_type": "markdown",
   "id": "93821e77-31b4-4039-8cce-66821d68f2fe",
   "metadata": {},
   "source": [
    "### generating the answer"
   ]
  },
  {
   "cell_type": "raw",
   "id": "da11aaa2-9b70-4663-b6da-65fa1741def8",
   "metadata": {},
   "source": [
    "client = OpenAI(api_key=\"\")\n",
    "def llm(prompt):\n",
    "    response = client.chat.completions.create(\n",
    "        model='gpt-4o',\n",
    "        messages=[{\"role\": \"user\", \"content\": prompt}]\n",
    "    )\n",
    "    \n",
    "    return response.choices[0].message.content"
   ]
  },
  {
   "cell_type": "markdown",
   "id": "be85edda-5bb8-4e9e-b50c-916a343fc45e",
   "metadata": {},
   "source": [
    "### calculating the costs\n",
    "Suppose that on average per request we send 150 tokens and receive back 250 tokens.\\\n",
    "How much will it cost to run 1000 requests?\n",
    "\n",
    "On June 17 2024, the prices for gpt4o are:\\\n",
    "Input: 0.005 - 1K tokens \\\n",
    "Output: 0.015 - 1K tokens \\\n",
    "You can redo the calculations with the values you got in Q6 and Q7."
   ]
  },
  {
   "cell_type": "code",
   "execution_count": 45,
   "id": "17d93bcf-9be7-491e-b653-f69b7a3be521",
   "metadata": {},
   "outputs": [
    {
     "data": {
      "text/plain": [
       "4.5"
      ]
     },
     "execution_count": 45,
     "metadata": {},
     "output_type": "execute_result"
    }
   ],
   "source": [
    "150 * 0.005 + 250 * 0.015"
   ]
  },
  {
   "cell_type": "markdown",
   "id": "2ced99d4-3a33-464b-955f-5e973762321e",
   "metadata": {},
   "source": [
    "for gpt4o on 2025-06-04:\\\n",
    "Input: 0.004 - 1K tokens\\\n",
    "Output: 0.016 - 1K tokens"
   ]
  },
  {
   "cell_type": "code",
   "execution_count": 50,
   "id": "a5ad4fdb-611c-4b31-b66b-1af8af12064e",
   "metadata": {},
   "outputs": [
    {
     "data": {
      "text/plain": [
       "4.6"
      ]
     },
     "execution_count": 50,
     "metadata": {},
     "output_type": "execute_result"
    }
   ],
   "source": [
    "150 * 0.004 + 250 * 0.016"
   ]
  },
  {
   "cell_type": "code",
   "execution_count": 49,
   "id": "9f829cd8-ea04-4ea7-9afc-837f56bf5111",
   "metadata": {},
   "outputs": [
    {
     "data": {
      "text/plain": [
       "9.847999999999999"
      ]
     },
     "execution_count": 49,
     "metadata": {},
     "output_type": "execute_result"
    }
   ],
   "source": [
    "1462 * 0.004 + 250 * 0.016"
   ]
  },
  {
   "cell_type": "code",
   "execution_count": null,
   "id": "f2bcbfa0-5d08-4579-ba0e-658f4e7289b3",
   "metadata": {},
   "outputs": [],
   "source": []
  },
  {
   "cell_type": "code",
   "execution_count": null,
   "id": "39a3acce-682c-4f2c-83c2-9fb27eeb8c71",
   "metadata": {},
   "outputs": [],
   "source": []
  }
 ],
 "metadata": {
  "kernelspec": {
   "display_name": "Python 3 (ipykernel)",
   "language": "python",
   "name": "python3"
  },
  "language_info": {
   "codemirror_mode": {
    "name": "ipython",
    "version": 3
   },
   "file_extension": ".py",
   "mimetype": "text/x-python",
   "name": "python",
   "nbconvert_exporter": "python",
   "pygments_lexer": "ipython3",
   "version": "3.12.2"
  }
 },
 "nbformat": 4,
 "nbformat_minor": 5
}
