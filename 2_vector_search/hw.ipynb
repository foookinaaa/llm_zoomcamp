{
 "cells": [
  {
   "cell_type": "markdown",
   "id": "1b0ff3bd-390e-457c-adca-eb660c66f97a",
   "metadata": {},
   "source": [
    "# Homework: Vector Search"
   ]
  },
  {
   "cell_type": "code",
   "execution_count": 39,
   "id": "982ebb26-0d27-4664-9ca3-451a1543d60c",
   "metadata": {},
   "outputs": [],
   "source": [
    "from fastembed import TextEmbedding\n",
    "import pandas as pd\n",
    "from qdrant_client import QdrantClient, models"
   ]
  },
  {
   "cell_type": "markdown",
   "id": "75538e40-4a4f-4db8-b0c0-9971d9e18e04",
   "metadata": {},
   "source": [
    "### Q1. Embedding the query\n",
    "Embed the query: 'I just discovered the course. Can I join now?'. Use the 'jinaai/jina-embeddings-v2-small-en' model.\n",
    "\n",
    "You should get a numpy array of size 512.\n",
    "\n",
    "What's the minimal value in this array?"
   ]
  },
  {
   "cell_type": "code",
   "execution_count": 7,
   "id": "f22d59cc-d48e-4cfb-a315-01c4ea163174",
   "metadata": {},
   "outputs": [],
   "source": [
    "text = 'I just discovered the course. Can I join now?'\n",
    "model_handle = \"jinaai/jina-embeddings-v2-small-en\"\n",
    "text_model = TextEmbedding(\n",
    "        model_name=model_handle,\n",
    ")\n",
    "text_embeddings = list(text_model.embed(text))"
   ]
  },
  {
   "cell_type": "code",
   "execution_count": 10,
   "id": "d1109703-535b-43bc-b735-8191c576fdc5",
   "metadata": {},
   "outputs": [
    {
     "data": {
      "text/plain": [
       "512"
      ]
     },
     "execution_count": 10,
     "metadata": {},
     "output_type": "execute_result"
    }
   ],
   "source": [
    "len(text_embeddings[0])"
   ]
  },
  {
   "cell_type": "code",
   "execution_count": 12,
   "id": "0712d572-580c-4aba-8609-587c717b6e6e",
   "metadata": {},
   "outputs": [
    {
     "data": {
      "text/plain": [
       "np.float64(-0.11726373551188797)"
      ]
     },
     "execution_count": 12,
     "metadata": {},
     "output_type": "execute_result"
    }
   ],
   "source": [
    "text_embeddings[0].min()"
   ]
  },
  {
   "cell_type": "markdown",
   "id": "ffe53708-a551-4d40-ba65-6f8fde60c3bc",
   "metadata": {},
   "source": [
    "### Cosine similarity"
   ]
  },
  {
   "cell_type": "markdown",
   "id": "bafa50c3-c48a-4785-957a-470cc061212d",
   "metadata": {},
   "source": [
    "The vectors that our embedding model returns are already normalized: their length is 1.0.\n",
    "\n",
    "You can chech that by using the norm function:"
   ]
  },
  {
   "cell_type": "code",
   "execution_count": 14,
   "id": "9cb052e7-d120-4cd2-987c-006a5155637c",
   "metadata": {},
   "outputs": [
    {
     "data": {
      "text/plain": [
       "np.float64(1.0)"
      ]
     },
     "execution_count": 14,
     "metadata": {},
     "output_type": "execute_result"
    }
   ],
   "source": [
    "import numpy as np\n",
    "np.linalg.norm(text_embeddings[0])"
   ]
  },
  {
   "cell_type": "markdown",
   "id": "f1e9d68d-bd85-4b80-b592-9547a73df306",
   "metadata": {},
   "source": [
    "Which means that we can simply compute the dot product between two vectors to learn the cosine similarity between them.\n",
    "\n",
    "For example, if you compute the cosine of the query vector with itself, the result will be 1.0:"
   ]
  },
  {
   "cell_type": "code",
   "execution_count": 15,
   "id": "964f2fb0-f385-4aa4-821c-5c681a5f1e48",
   "metadata": {},
   "outputs": [
    {
     "data": {
      "text/plain": [
       "np.float64(1.0)"
      ]
     },
     "execution_count": 15,
     "metadata": {},
     "output_type": "execute_result"
    }
   ],
   "source": [
    "text_embeddings[0].dot(text_embeddings[0])"
   ]
  },
  {
   "cell_type": "markdown",
   "id": "c9555ca1-964c-4e69-a018-3ee2aa983f5c",
   "metadata": {},
   "source": [
    "### Q2. Cosine similarity with another vector\n",
    "What's the cosine similarity between the vector for the query and the vector for the document?"
   ]
  },
  {
   "cell_type": "code",
   "execution_count": 16,
   "id": "54f851da-07ce-4b0d-83cb-62b0172e919e",
   "metadata": {},
   "outputs": [],
   "source": [
    "doc = 'Can I still join the course after the start date?'"
   ]
  },
  {
   "cell_type": "code",
   "execution_count": 17,
   "id": "d7d1f69f-dfb2-4800-8ebb-b8773a8d4e54",
   "metadata": {},
   "outputs": [],
   "source": [
    "query_embeddings = list(text_model.embed(doc))[0]"
   ]
  },
  {
   "cell_type": "code",
   "execution_count": 18,
   "id": "0a79cc39-ceb4-4576-afee-cfe700cfb9eb",
   "metadata": {},
   "outputs": [
    {
     "data": {
      "text/plain": [
       "np.float64(0.9008528856818037)"
      ]
     },
     "execution_count": 18,
     "metadata": {},
     "output_type": "execute_result"
    }
   ],
   "source": [
    "text_embeddings[0].dot(query_embeddings)"
   ]
  },
  {
   "cell_type": "markdown",
   "id": "d097155a-6d0a-4430-bfcb-db33f49b3329",
   "metadata": {},
   "source": [
    "### Q3. Ranking by cosine\n",
    "Compute the embeddings for the text field, and compute the cosine between the query vector and all the documents.\n",
    "\n",
    "What's the document index with the highest similarity? (Indexing starts from 0):"
   ]
  },
  {
   "cell_type": "code",
   "execution_count": 19,
   "id": "a19f1fed-1ee8-4513-b0d5-80b4d0e8e126",
   "metadata": {},
   "outputs": [],
   "source": [
    "documents = [{'text': \"Yes, even if you don't register, you're still eligible to submit the homeworks.\\nBe aware, however, that there will be deadlines for turning in the final projects. So don't leave everything for the last minute.\",\n",
    "  'section': 'General course-related questions',\n",
    "  'question': 'Course - Can I still join the course after the start date?',\n",
    "  'course': 'data-engineering-zoomcamp'},\n",
    " {'text': 'Yes, we will keep all the materials after the course finishes, so you can follow the course at your own pace after it finishes.\\nYou can also continue looking at the homeworks and continue preparing for the next cohort. I guess you can also start working on your final capstone project.',\n",
    "  'section': 'General course-related questions',\n",
    "  'question': 'Course - Can I follow the course after it finishes?',\n",
    "  'course': 'data-engineering-zoomcamp'},\n",
    " {'text': \"The purpose of this document is to capture frequently asked technical questions\\nThe exact day and hour of the course will be 15th Jan 2024 at 17h00. The course will start with the first  “Office Hours'' live.1\\nSubscribe to course public Google Calendar (it works from Desktop only).\\nRegister before the course starts using this link.\\nJoin the course Telegram channel with announcements.\\nDon’t forget to register in DataTalks.Club's Slack and join the channel.\",\n",
    "  'section': 'General course-related questions',\n",
    "  'question': 'Course - When will the course start?',\n",
    "  'course': 'data-engineering-zoomcamp'},\n",
    " {'text': 'You can start by installing and setting up all the dependencies and requirements:\\nGoogle cloud account\\nGoogle Cloud SDK\\nPython 3 (installed with Anaconda)\\nTerraform\\nGit\\nLook over the prerequisites and syllabus to see if you are comfortable with these subjects.',\n",
    "  'section': 'General course-related questions',\n",
    "  'question': 'Course - What can I do before the course starts?',\n",
    "  'course': 'data-engineering-zoomcamp'},\n",
    " {'text': 'Star the repo! Share it with friends if you find it useful ❣️\\nCreate a PR if you see you can improve the text or the structure of the repository.',\n",
    "  'section': 'General course-related questions',\n",
    "  'question': 'How can we contribute to the course?',\n",
    "  'course': 'data-engineering-zoomcamp'}]"
   ]
  },
  {
   "cell_type": "code",
   "execution_count": 22,
   "id": "65c0db6c-c7f4-4f22-8d2e-dd329d68ae68",
   "metadata": {},
   "outputs": [],
   "source": [
    "embeddings = []\n",
    "\n",
    "for d in documents:\n",
    "    embedding = list(text_model.embed(d['text']))[0]\n",
    "    embeddings.append(embedding)\n",
    "V = np.vstack(embeddings)"
   ]
  },
  {
   "cell_type": "markdown",
   "id": "c007a386-c4e5-4f03-ba60-cf854ede0346",
   "metadata": {},
   "source": [
    "Hint: if you put all the embeddings of the text field in one matrix V (a single 2-dimensional numpy array), then computing the cosine becomes a matrix multiplication:"
   ]
  },
  {
   "cell_type": "code",
   "execution_count": 24,
   "id": "c2a906f2-1eee-4312-adde-dfa6dfbfab9e",
   "metadata": {},
   "outputs": [
    {
     "data": {
      "text/plain": [
       "array([0.8106057 , 0.84989067, 0.7991335 , 0.68130469, 0.6739288 ])"
      ]
     },
     "execution_count": 24,
     "metadata": {},
     "output_type": "execute_result"
    }
   ],
   "source": [
    "V.dot(query_embeddings)"
   ]
  },
  {
   "cell_type": "code",
   "execution_count": 25,
   "id": "67cdb634-d99f-4ce0-bbc5-09b83996d12e",
   "metadata": {},
   "outputs": [
    {
     "data": {
      "text/plain": [
       "np.int64(1)"
      ]
     },
     "execution_count": 25,
     "metadata": {},
     "output_type": "execute_result"
    }
   ],
   "source": [
    "np.argmax(V.dot(query_embeddings))"
   ]
  },
  {
   "cell_type": "markdown",
   "id": "9d99d0b8-d1ef-49f7-b8ed-867510325add",
   "metadata": {},
   "source": [
    "### Q4. Ranking by cosine, version two\n",
    "Embed this field and compute the cosine between it and the query vector. What's the highest scoring document?\\\n",
    "Is it different from Q3? If yes, why?"
   ]
  },
  {
   "cell_type": "code",
   "execution_count": 27,
   "id": "31ea6523-cbc7-4b1b-9a22-97d532f29290",
   "metadata": {},
   "outputs": [],
   "source": [
    "embeddings = []\n",
    "\n",
    "for doc in documents:\n",
    "    full_text = doc['question'] + ' ' + doc['text']\n",
    "    embedding = list(text_model.embed(full_text))[0]\n",
    "    embeddings.append(embedding)\n",
    "V = np.vstack(embeddings)"
   ]
  },
  {
   "cell_type": "code",
   "execution_count": 28,
   "id": "aad933df-f5e7-4d5c-9a78-ec0498e081af",
   "metadata": {},
   "outputs": [
    {
     "data": {
      "text/plain": [
       "array([0.92732519, 0.85948473, 0.83966023, 0.76320296, 0.76044492])"
      ]
     },
     "execution_count": 28,
     "metadata": {},
     "output_type": "execute_result"
    }
   ],
   "source": [
    "V.dot(query_embeddings)"
   ]
  },
  {
   "cell_type": "code",
   "execution_count": 29,
   "id": "8e5790d2-2311-4611-a674-bc9d5bd5d10e",
   "metadata": {},
   "outputs": [
    {
     "data": {
      "text/plain": [
       "np.int64(0)"
      ]
     },
     "execution_count": 29,
     "metadata": {},
     "output_type": "execute_result"
    }
   ],
   "source": [
    "np.argmax(V.dot(query_embeddings))"
   ]
  },
  {
   "cell_type": "markdown",
   "id": "b092a78e-29af-4812-bc60-800069201d47",
   "metadata": {},
   "source": [
    "Different from Q3 because question exact match question from text 0"
   ]
  },
  {
   "cell_type": "markdown",
   "id": "29b0913f-42eb-4bc3-a825-58bcb9b78825",
   "metadata": {},
   "source": [
    "### Q5. Selecting the embedding model\n",
    "Now let's select a smaller embedding model. What's the smallest dimensionality for models in fastembed?"
   ]
  },
  {
   "cell_type": "code",
   "execution_count": 36,
   "id": "798a0860-9793-48d8-858e-8553377b420a",
   "metadata": {},
   "outputs": [
    {
     "data": {
      "text/html": [
       "<div>\n",
       "<style scoped>\n",
       "    .dataframe tbody tr th:only-of-type {\n",
       "        vertical-align: middle;\n",
       "    }\n",
       "\n",
       "    .dataframe tbody tr th {\n",
       "        vertical-align: top;\n",
       "    }\n",
       "\n",
       "    .dataframe thead th {\n",
       "        text-align: right;\n",
       "    }\n",
       "</style>\n",
       "<table border=\"1\" class=\"dataframe\">\n",
       "  <thead>\n",
       "    <tr style=\"text-align: right;\">\n",
       "      <th></th>\n",
       "      <th>model</th>\n",
       "      <th>description</th>\n",
       "      <th>license</th>\n",
       "      <th>size_in_GB</th>\n",
       "      <th>dim</th>\n",
       "      <th>tasks</th>\n",
       "    </tr>\n",
       "  </thead>\n",
       "  <tbody>\n",
       "    <tr>\n",
       "      <th>0</th>\n",
       "      <td>BAAI/bge-small-en-v1.5</td>\n",
       "      <td>Text embeddings, Unimodal (text), English, 512...</td>\n",
       "      <td>mit</td>\n",
       "      <td>0.067</td>\n",
       "      <td>384</td>\n",
       "      <td>{}</td>\n",
       "    </tr>\n",
       "    <tr>\n",
       "      <th>1</th>\n",
       "      <td>sentence-transformers/all-MiniLM-L6-v2</td>\n",
       "      <td>Text embeddings, Unimodal (text), English, 256...</td>\n",
       "      <td>apache-2.0</td>\n",
       "      <td>0.090</td>\n",
       "      <td>384</td>\n",
       "      <td>{}</td>\n",
       "    </tr>\n",
       "    <tr>\n",
       "      <th>2</th>\n",
       "      <td>BAAI/bge-small-zh-v1.5</td>\n",
       "      <td>Text embeddings, Unimodal (text), Chinese, 512...</td>\n",
       "      <td>mit</td>\n",
       "      <td>0.090</td>\n",
       "      <td>512</td>\n",
       "      <td>{}</td>\n",
       "    </tr>\n",
       "    <tr>\n",
       "      <th>3</th>\n",
       "      <td>snowflake/snowflake-arctic-embed-xs</td>\n",
       "      <td>Text embeddings, Unimodal (text), English, 512...</td>\n",
       "      <td>apache-2.0</td>\n",
       "      <td>0.090</td>\n",
       "      <td>384</td>\n",
       "      <td>{}</td>\n",
       "    </tr>\n",
       "    <tr>\n",
       "      <th>4</th>\n",
       "      <td>jinaai/jina-embeddings-v2-small-en</td>\n",
       "      <td>Text embeddings, Unimodal (text), English, 819...</td>\n",
       "      <td>apache-2.0</td>\n",
       "      <td>0.120</td>\n",
       "      <td>512</td>\n",
       "      <td>{}</td>\n",
       "    </tr>\n",
       "  </tbody>\n",
       "</table>\n",
       "</div>"
      ],
      "text/plain": [
       "                                    model  \\\n",
       "0                  BAAI/bge-small-en-v1.5   \n",
       "1  sentence-transformers/all-MiniLM-L6-v2   \n",
       "2                  BAAI/bge-small-zh-v1.5   \n",
       "3     snowflake/snowflake-arctic-embed-xs   \n",
       "4      jinaai/jina-embeddings-v2-small-en   \n",
       "\n",
       "                                         description     license  size_in_GB  \\\n",
       "0  Text embeddings, Unimodal (text), English, 512...         mit       0.067   \n",
       "1  Text embeddings, Unimodal (text), English, 256...  apache-2.0       0.090   \n",
       "2  Text embeddings, Unimodal (text), Chinese, 512...         mit       0.090   \n",
       "3  Text embeddings, Unimodal (text), English, 512...  apache-2.0       0.090   \n",
       "4  Text embeddings, Unimodal (text), English, 819...  apache-2.0       0.120   \n",
       "\n",
       "   dim tasks  \n",
       "0  384    {}  \n",
       "1  384    {}  \n",
       "2  512    {}  \n",
       "3  384    {}  \n",
       "4  512    {}  "
      ]
     },
     "execution_count": 36,
     "metadata": {},
     "output_type": "execute_result"
    }
   ],
   "source": [
    "supported_models = (\n",
    "    pd.DataFrame(TextEmbedding.list_supported_models())\n",
    "    .sort_values(\"size_in_GB\")\n",
    "    .drop(columns=[\"sources\", \"model_file\", \"additional_files\"])\n",
    "    .reset_index(drop=True)\n",
    ")\n",
    "supported_models.head()"
   ]
  },
  {
   "cell_type": "markdown",
   "id": "1bbf4d60-1f5a-436c-b8c6-e8637b109b93",
   "metadata": {},
   "source": [
    "### Q6. Indexing with qdrant"
   ]
  },
  {
   "cell_type": "code",
   "execution_count": 38,
   "id": "7a2a6fb7-427d-4d68-84ef-ecede7621b41",
   "metadata": {},
   "outputs": [],
   "source": [
    "import requests \n",
    "\n",
    "docs_url = 'https://github.com/alexeygrigorev/llm-rag-workshop/raw/main/notebooks/documents.json'\n",
    "docs_response = requests.get(docs_url)\n",
    "documents_raw = docs_response.json()\n",
    "\n",
    "\n",
    "documents = []\n",
    "\n",
    "for course in documents_raw:\n",
    "    course_name = course['course']\n",
    "    if course_name != 'machine-learning-zoomcamp':\n",
    "        continue\n",
    "\n",
    "    for doc in course['documents']:\n",
    "        doc['course'] = course_name\n",
    "        documents.append(doc)"
   ]
  },
  {
   "cell_type": "code",
   "execution_count": 40,
   "id": "8d133be3-cd07-4335-abc4-71de9b06bdb4",
   "metadata": {},
   "outputs": [],
   "source": [
    "qd_client = QdrantClient(\"http://localhost:6333\")"
   ]
  },
  {
   "cell_type": "code",
   "execution_count": 41,
   "id": "5bfd2cb3-30be-4cb5-adbe-8b9be95e1904",
   "metadata": {},
   "outputs": [],
   "source": [
    "model = 'BAAI/bge-small-en'"
   ]
  },
  {
   "cell_type": "code",
   "execution_count": 50,
   "id": "14eebb04-05f9-4a49-ad5a-ef9d5f63f9f4",
   "metadata": {},
   "outputs": [],
   "source": [
    "collection_name = \"zoomcamp-hw\""
   ]
  },
  {
   "cell_type": "code",
   "execution_count": 51,
   "id": "c7f0aa8a-190c-4940-9c67-6761ccf4409f",
   "metadata": {},
   "outputs": [
    {
     "data": {
      "text/plain": [
       "True"
      ]
     },
     "execution_count": 51,
     "metadata": {},
     "output_type": "execute_result"
    }
   ],
   "source": [
    "qd_client.delete_collection(collection_name=collection_name)"
   ]
  },
  {
   "cell_type": "code",
   "execution_count": 52,
   "id": "842f46c9-e6e9-4d2b-9a15-49203d317573",
   "metadata": {},
   "outputs": [
    {
     "data": {
      "text/plain": [
       "True"
      ]
     },
     "execution_count": 52,
     "metadata": {},
     "output_type": "execute_result"
    }
   ],
   "source": [
    "qd_client.create_collection(\n",
    "    collection_name=collection_name,\n",
    "    vectors_config=models.VectorParams(\n",
    "        size=512,\n",
    "        distance=models.Distance.COSINE\n",
    "    )\n",
    ")"
   ]
  },
  {
   "cell_type": "code",
   "execution_count": 53,
   "id": "63dacf32-0561-4ef9-9aa3-57a7f3b7c584",
   "metadata": {},
   "outputs": [
    {
     "data": {
      "text/plain": [
       "UpdateResult(operation_id=1, status=<UpdateStatus.COMPLETED: 'completed'>)"
      ]
     },
     "execution_count": 53,
     "metadata": {},
     "output_type": "execute_result"
    }
   ],
   "source": [
    "qd_client.create_payload_index(\n",
    "    collection_name=collection_name,\n",
    "    field_name=\"course\",\n",
    "    field_schema=\"keyword\"\n",
    ")"
   ]
  },
  {
   "cell_type": "code",
   "execution_count": 54,
   "id": "373bc696-832f-4b09-963d-5d82bb752939",
   "metadata": {},
   "outputs": [],
   "source": [
    "points = []\n",
    "\n",
    "for i, doc in enumerate(documents):\n",
    "    # question + answer\n",
    "    text = doc['question'] + ' ' + doc['text']\n",
    "    vector = models.Document(text=text, model=model_handle)\n",
    "    point = models.PointStruct(\n",
    "        id=i,\n",
    "        vector=vector,\n",
    "        payload=doc\n",
    "    )\n",
    "    points.append(point)"
   ]
  },
  {
   "cell_type": "code",
   "execution_count": 55,
   "id": "8a3bdf5c-85b2-419c-bc75-9867f2efa16e",
   "metadata": {},
   "outputs": [
    {
     "data": {
      "text/plain": [
       "UpdateResult(operation_id=2, status=<UpdateStatus.COMPLETED: 'completed'>)"
      ]
     },
     "execution_count": 55,
     "metadata": {},
     "output_type": "execute_result"
    }
   ],
   "source": [
    "qd_client.upsert(\n",
    "    collection_name=collection_name,\n",
    "    points=points\n",
    ")"
   ]
  },
  {
   "cell_type": "code",
   "execution_count": 56,
   "id": "d5dd541c-1900-4c20-abf0-ab13b9c48f13",
   "metadata": {},
   "outputs": [],
   "source": [
    "question = 'I just discovered the course. Can I join now?'"
   ]
  },
  {
   "cell_type": "code",
   "execution_count": 57,
   "id": "20270833-5f75-46b8-9f2f-e27e8890053a",
   "metadata": {},
   "outputs": [],
   "source": [
    "query_points = qd_client.query_points(\n",
    "    collection_name=collection_name,\n",
    "    query=models.Document(\n",
    "        text=question,\n",
    "        model=model_handle \n",
    "    ),\n",
    "    limit=5, # top 5 matches for question\n",
    "    with_payload=True\n",
    ")"
   ]
  },
  {
   "cell_type": "code",
   "execution_count": 62,
   "id": "ad489001-22f2-4a19-9d49-149d0ddadff7",
   "metadata": {},
   "outputs": [
    {
     "data": {
      "text/plain": [
       "ScoredPoint(id=14, version=2, score=0.8620738, payload={'text': 'Yes, you can. You won’t be able to submit some of the homeworks, but you can still take part in the course.\\nIn order to get a certificate, you need to submit 2 out of 3 course projects and review 3 peers’ Projects by the deadline. It means that if you join the course at the end of November and manage to work on two projects, you will still be eligible for a certificate.', 'section': 'General course-related questions', 'question': 'The course has already started. Can I still join it?', 'course': 'machine-learning-zoomcamp'}, vector=None, shard_key=None, order_value=None)"
      ]
     },
     "execution_count": 62,
     "metadata": {},
     "output_type": "execute_result"
    }
   ],
   "source": [
    "query_points.points[0]"
   ]
  },
  {
   "cell_type": "code",
   "execution_count": 61,
   "id": "8398aeb1-41d3-4529-be34-3a2d5467e091",
   "metadata": {},
   "outputs": [
    {
     "data": {
      "text/plain": [
       "0.8620738"
      ]
     },
     "execution_count": 61,
     "metadata": {},
     "output_type": "execute_result"
    }
   ],
   "source": [
    "query_points.points[0].score"
   ]
  },
  {
   "cell_type": "code",
   "execution_count": null,
   "id": "3b625f3f-8b90-43f2-81f0-b046e22cfc77",
   "metadata": {},
   "outputs": [],
   "source": []
  }
 ],
 "metadata": {
  "kernelspec": {
   "display_name": "Python 3 (ipykernel)",
   "language": "python",
   "name": "python3"
  },
  "language_info": {
   "codemirror_mode": {
    "name": "ipython",
    "version": 3
   },
   "file_extension": ".py",
   "mimetype": "text/x-python",
   "name": "python",
   "nbconvert_exporter": "python",
   "pygments_lexer": "ipython3",
   "version": "3.12.2"
  }
 },
 "nbformat": 4,
 "nbformat_minor": 5
}
